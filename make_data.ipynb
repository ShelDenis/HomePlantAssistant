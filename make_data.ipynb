{
 "cells": [
  {
   "cell_type": "code",
   "execution_count": 10,
   "id": "b7518c51",
   "metadata": {},
   "outputs": [
    {
     "name": "stdout",
     "output_type": "stream",
     "text": [
      "D:/PythonWork/OldZmiy/HomePlantsAssistant/files/file1.txt\n",
      "D:/PythonWork/OldZmiy/HomePlantsAssistant/files/file2.txt\n",
      "D:/PythonWork/OldZmiy/HomePlantsAssistant/files/file3.txt\n",
      "D:/PythonWork/OldZmiy/HomePlantsAssistant/files/file4.txt\n",
      "D:/PythonWork/OldZmiy/HomePlantsAssistant/files/file5.txt\n",
      "Данные записаны в data.json\n"
     ]
    }
   ],
   "source": [
    "import json\n",
    "\n",
    "# Список имен файлов документов\n",
    "filenames = [\"D:/PythonWork/OldZmiy/HomePlantsAssistant/files/file1.txt\",\n",
    "             \"D:/PythonWork/OldZmiy/HomePlantsAssistant/files/file2.txt\",\n",
    "             \"D:/PythonWork/OldZmiy/HomePlantsAssistant/files/file3.txt\",\n",
    "             \"D:/PythonWork/OldZmiy/HomePlantsAssistant/files/file4.txt\",\n",
    "             \"D:/PythonWork/OldZmiy/HomePlantsAssistant/files/file5.txt\"]\n",
    "\n",
    "# Выходной JSON файл\n",
    "output_file = \"data.json\"\n",
    "\n",
    "# Словарь для хранения данных\n",
    "data = []\n",
    "\n",
    "for filename in filenames:\n",
    "    # Читаем текст из файла\n",
    "    print(filename)\n",
    "    try:\n",
    "        with open(filename, 'r', encoding='utf-8') as file:\n",
    "            content = file.read()\n",
    "            \n",
    "        # Формируем запись для каждого документа\n",
    "        record = {\n",
    "            \"id\": filename.split('.')[0],  # Берём имя файла без расширения как ID\n",
    "            \"title\": filename.replace(\".txt\", \"utf-8\"),  # Удаляем расширение .txt\n",
    "            \"text\": content\n",
    "        }\n",
    "        data.append(record)\n",
    "    except Exception:\n",
    "        with open(filename, 'r', encoding='windows-1251') as file:\n",
    "            content = file.read()\n",
    "            \n",
    "        # Формируем запись для каждого документа\n",
    "        record = {\n",
    "            \"id\": filename.split('.')[0],  # Берём имя файла без расширения как ID\n",
    "            \"title\": filename.replace(\".txt\", \"\"),  # Удаляем расширение .txt\n",
    "            \"text\": content\n",
    "        }\n",
    "        data.append(record)\n",
    "\n",
    "# Запись данных в JSON файл\n",
    "with open(output_file, 'w', encoding='utf-8') as outfile:\n",
    "    json.dump(data, outfile, ensure_ascii=False, indent=4)\n",
    "\n",
    "print(f\"Данные записаны в {output_file}\")\n"
   ]
  }
 ],
 "metadata": {
  "kernelspec": {
   "display_name": ".venv",
   "language": "python",
   "name": "python3"
  },
  "language_info": {
   "codemirror_mode": {
    "name": "ipython",
    "version": 3
   },
   "file_extension": ".py",
   "mimetype": "text/x-python",
   "name": "python",
   "nbconvert_exporter": "python",
   "pygments_lexer": "ipython3",
   "version": "3.10.11"
  }
 },
 "nbformat": 4,
 "nbformat_minor": 5
}
