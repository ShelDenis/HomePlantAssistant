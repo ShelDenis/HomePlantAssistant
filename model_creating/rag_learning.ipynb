{
  "nbformat": 4,
  "nbformat_minor": 0,
  "metadata": {
    "colab": {
      "provenance": []
    },
    "kernelspec": {
      "name": "python3",
      "display_name": "Python 3"
    },
    "language_info": {
      "name": "python"
    },
    "widgets": {
      "application/vnd.jupyter.widget-state+json": {
        "9a5d83386b4e44989136ae1d50e5ba37": {
          "model_module": "@jupyter-widgets/controls",
          "model_name": "HBoxModel",
          "model_module_version": "1.5.0",
          "state": {
            "_dom_classes": [],
            "_model_module": "@jupyter-widgets/controls",
            "_model_module_version": "1.5.0",
            "_model_name": "HBoxModel",
            "_view_count": null,
            "_view_module": "@jupyter-widgets/controls",
            "_view_module_version": "1.5.0",
            "_view_name": "HBoxView",
            "box_style": "",
            "children": [
              "IPY_MODEL_f9e9c223452e43daaa686a00892fb642",
              "IPY_MODEL_eb7bfabe4a6346469573588fd47ef93f",
              "IPY_MODEL_ec04bd7c9c8f42e3888975994606de7a"
            ],
            "layout": "IPY_MODEL_2341f080f95645d7b7eb91e8257da509"
          }
        },
        "f9e9c223452e43daaa686a00892fb642": {
          "model_module": "@jupyter-widgets/controls",
          "model_name": "HTMLModel",
          "model_module_version": "1.5.0",
          "state": {
            "_dom_classes": [],
            "_model_module": "@jupyter-widgets/controls",
            "_model_module_version": "1.5.0",
            "_model_name": "HTMLModel",
            "_view_count": null,
            "_view_module": "@jupyter-widgets/controls",
            "_view_module_version": "1.5.0",
            "_view_name": "HTMLView",
            "description": "",
            "description_tooltip": null,
            "layout": "IPY_MODEL_bfb37ed05dd7499295cc81951e55e34b",
            "placeholder": "​",
            "style": "IPY_MODEL_2eadbbdacfa441429095ae8f4cc2dd8b",
            "value": "100%"
          }
        },
        "eb7bfabe4a6346469573588fd47ef93f": {
          "model_module": "@jupyter-widgets/controls",
          "model_name": "FloatProgressModel",
          "model_module_version": "1.5.0",
          "state": {
            "_dom_classes": [],
            "_model_module": "@jupyter-widgets/controls",
            "_model_module_version": "1.5.0",
            "_model_name": "FloatProgressModel",
            "_view_count": null,
            "_view_module": "@jupyter-widgets/controls",
            "_view_module_version": "1.5.0",
            "_view_name": "ProgressView",
            "bar_style": "success",
            "description": "",
            "description_tooltip": null,
            "layout": "IPY_MODEL_73b628760a2a432ba32af3fe93fe5b39",
            "max": 1,
            "min": 0,
            "orientation": "horizontal",
            "style": "IPY_MODEL_5e4fa929839c4310ac307198c4f50825",
            "value": 1
          }
        },
        "ec04bd7c9c8f42e3888975994606de7a": {
          "model_module": "@jupyter-widgets/controls",
          "model_name": "HTMLModel",
          "model_module_version": "1.5.0",
          "state": {
            "_dom_classes": [],
            "_model_module": "@jupyter-widgets/controls",
            "_model_module_version": "1.5.0",
            "_model_name": "HTMLModel",
            "_view_count": null,
            "_view_module": "@jupyter-widgets/controls",
            "_view_module_version": "1.5.0",
            "_view_name": "HTMLView",
            "description": "",
            "description_tooltip": null,
            "layout": "IPY_MODEL_797bc9fa47454ddf9acdecbc8c6a8cdc",
            "placeholder": "​",
            "style": "IPY_MODEL_5c959f06c47e4116b4c502ce8b10dcbe",
            "value": " 1/1 [00:00&lt;00:00,  1.16it/s]"
          }
        },
        "2341f080f95645d7b7eb91e8257da509": {
          "model_module": "@jupyter-widgets/base",
          "model_name": "LayoutModel",
          "model_module_version": "1.2.0",
          "state": {
            "_model_module": "@jupyter-widgets/base",
            "_model_module_version": "1.2.0",
            "_model_name": "LayoutModel",
            "_view_count": null,
            "_view_module": "@jupyter-widgets/base",
            "_view_module_version": "1.2.0",
            "_view_name": "LayoutView",
            "align_content": null,
            "align_items": null,
            "align_self": null,
            "border": null,
            "bottom": null,
            "display": null,
            "flex": null,
            "flex_flow": null,
            "grid_area": null,
            "grid_auto_columns": null,
            "grid_auto_flow": null,
            "grid_auto_rows": null,
            "grid_column": null,
            "grid_gap": null,
            "grid_row": null,
            "grid_template_areas": null,
            "grid_template_columns": null,
            "grid_template_rows": null,
            "height": null,
            "justify_content": null,
            "justify_items": null,
            "left": null,
            "margin": null,
            "max_height": null,
            "max_width": null,
            "min_height": null,
            "min_width": null,
            "object_fit": null,
            "object_position": null,
            "order": null,
            "overflow": null,
            "overflow_x": null,
            "overflow_y": null,
            "padding": null,
            "right": null,
            "top": null,
            "visibility": null,
            "width": null
          }
        },
        "bfb37ed05dd7499295cc81951e55e34b": {
          "model_module": "@jupyter-widgets/base",
          "model_name": "LayoutModel",
          "model_module_version": "1.2.0",
          "state": {
            "_model_module": "@jupyter-widgets/base",
            "_model_module_version": "1.2.0",
            "_model_name": "LayoutModel",
            "_view_count": null,
            "_view_module": "@jupyter-widgets/base",
            "_view_module_version": "1.2.0",
            "_view_name": "LayoutView",
            "align_content": null,
            "align_items": null,
            "align_self": null,
            "border": null,
            "bottom": null,
            "display": null,
            "flex": null,
            "flex_flow": null,
            "grid_area": null,
            "grid_auto_columns": null,
            "grid_auto_flow": null,
            "grid_auto_rows": null,
            "grid_column": null,
            "grid_gap": null,
            "grid_row": null,
            "grid_template_areas": null,
            "grid_template_columns": null,
            "grid_template_rows": null,
            "height": null,
            "justify_content": null,
            "justify_items": null,
            "left": null,
            "margin": null,
            "max_height": null,
            "max_width": null,
            "min_height": null,
            "min_width": null,
            "object_fit": null,
            "object_position": null,
            "order": null,
            "overflow": null,
            "overflow_x": null,
            "overflow_y": null,
            "padding": null,
            "right": null,
            "top": null,
            "visibility": null,
            "width": null
          }
        },
        "2eadbbdacfa441429095ae8f4cc2dd8b": {
          "model_module": "@jupyter-widgets/controls",
          "model_name": "DescriptionStyleModel",
          "model_module_version": "1.5.0",
          "state": {
            "_model_module": "@jupyter-widgets/controls",
            "_model_module_version": "1.5.0",
            "_model_name": "DescriptionStyleModel",
            "_view_count": null,
            "_view_module": "@jupyter-widgets/base",
            "_view_module_version": "1.2.0",
            "_view_name": "StyleView",
            "description_width": ""
          }
        },
        "73b628760a2a432ba32af3fe93fe5b39": {
          "model_module": "@jupyter-widgets/base",
          "model_name": "LayoutModel",
          "model_module_version": "1.2.0",
          "state": {
            "_model_module": "@jupyter-widgets/base",
            "_model_module_version": "1.2.0",
            "_model_name": "LayoutModel",
            "_view_count": null,
            "_view_module": "@jupyter-widgets/base",
            "_view_module_version": "1.2.0",
            "_view_name": "LayoutView",
            "align_content": null,
            "align_items": null,
            "align_self": null,
            "border": null,
            "bottom": null,
            "display": null,
            "flex": null,
            "flex_flow": null,
            "grid_area": null,
            "grid_auto_columns": null,
            "grid_auto_flow": null,
            "grid_auto_rows": null,
            "grid_column": null,
            "grid_gap": null,
            "grid_row": null,
            "grid_template_areas": null,
            "grid_template_columns": null,
            "grid_template_rows": null,
            "height": null,
            "justify_content": null,
            "justify_items": null,
            "left": null,
            "margin": null,
            "max_height": null,
            "max_width": null,
            "min_height": null,
            "min_width": null,
            "object_fit": null,
            "object_position": null,
            "order": null,
            "overflow": null,
            "overflow_x": null,
            "overflow_y": null,
            "padding": null,
            "right": null,
            "top": null,
            "visibility": null,
            "width": null
          }
        },
        "5e4fa929839c4310ac307198c4f50825": {
          "model_module": "@jupyter-widgets/controls",
          "model_name": "ProgressStyleModel",
          "model_module_version": "1.5.0",
          "state": {
            "_model_module": "@jupyter-widgets/controls",
            "_model_module_version": "1.5.0",
            "_model_name": "ProgressStyleModel",
            "_view_count": null,
            "_view_module": "@jupyter-widgets/base",
            "_view_module_version": "1.2.0",
            "_view_name": "StyleView",
            "bar_color": null,
            "description_width": ""
          }
        },
        "797bc9fa47454ddf9acdecbc8c6a8cdc": {
          "model_module": "@jupyter-widgets/base",
          "model_name": "LayoutModel",
          "model_module_version": "1.2.0",
          "state": {
            "_model_module": "@jupyter-widgets/base",
            "_model_module_version": "1.2.0",
            "_model_name": "LayoutModel",
            "_view_count": null,
            "_view_module": "@jupyter-widgets/base",
            "_view_module_version": "1.2.0",
            "_view_name": "LayoutView",
            "align_content": null,
            "align_items": null,
            "align_self": null,
            "border": null,
            "bottom": null,
            "display": null,
            "flex": null,
            "flex_flow": null,
            "grid_area": null,
            "grid_auto_columns": null,
            "grid_auto_flow": null,
            "grid_auto_rows": null,
            "grid_column": null,
            "grid_gap": null,
            "grid_row": null,
            "grid_template_areas": null,
            "grid_template_columns": null,
            "grid_template_rows": null,
            "height": null,
            "justify_content": null,
            "justify_items": null,
            "left": null,
            "margin": null,
            "max_height": null,
            "max_width": null,
            "min_height": null,
            "min_width": null,
            "object_fit": null,
            "object_position": null,
            "order": null,
            "overflow": null,
            "overflow_x": null,
            "overflow_y": null,
            "padding": null,
            "right": null,
            "top": null,
            "visibility": null,
            "width": null
          }
        },
        "5c959f06c47e4116b4c502ce8b10dcbe": {
          "model_module": "@jupyter-widgets/controls",
          "model_name": "DescriptionStyleModel",
          "model_module_version": "1.5.0",
          "state": {
            "_model_module": "@jupyter-widgets/controls",
            "_model_module_version": "1.5.0",
            "_model_name": "DescriptionStyleModel",
            "_view_count": null,
            "_view_module": "@jupyter-widgets/base",
            "_view_module_version": "1.2.0",
            "_view_name": "StyleView",
            "description_width": ""
          }
        }
      }
    }
  },
  "cells": [
    {
      "cell_type": "code",
      "source": [
        "!pip install nltk==3.8.1\n",
        "\n",
        "import nltk\n",
        "from nltk.tokenize import sent_tokenize\n",
        "\n",
        "try:\n",
        "    nltk.data.find('tokenizers/punkt')\n",
        "except LookupError:\n",
        "    nltk.download('punkt')"
      ],
      "metadata": {
        "colab": {
          "base_uri": "https://localhost:8080/"
        },
        "id": "bTXoYPz6u6pZ",
        "outputId": "23872f78-2b61-43c2-aa6b-899be69ec9e4"
      },
      "execution_count": 1,
      "outputs": [
        {
          "output_type": "stream",
          "name": "stdout",
          "text": [
            "Requirement already satisfied: nltk==3.8.1 in /usr/local/lib/python3.12/dist-packages (3.8.1)\n",
            "Requirement already satisfied: click in /usr/local/lib/python3.12/dist-packages (from nltk==3.8.1) (8.3.0)\n",
            "Requirement already satisfied: joblib in /usr/local/lib/python3.12/dist-packages (from nltk==3.8.1) (1.5.2)\n",
            "Requirement already satisfied: regex>=2021.8.3 in /usr/local/lib/python3.12/dist-packages (from nltk==3.8.1) (2024.11.6)\n",
            "Requirement already satisfied: tqdm in /usr/local/lib/python3.12/dist-packages (from nltk==3.8.1) (4.67.1)\n"
          ]
        }
      ]
    },
    {
      "cell_type": "code",
      "source": [
        "from sentence_transformers import util"
      ],
      "metadata": {
        "id": "pQY9317axT4M"
      },
      "execution_count": 2,
      "outputs": []
    },
    {
      "cell_type": "code",
      "execution_count": 3,
      "metadata": {
        "id": "W3oRNs9iV3oe",
        "colab": {
          "base_uri": "https://localhost:8080/"
        },
        "outputId": "00e2daba-81d3-477a-a084-d78bf305b038"
      },
      "outputs": [
        {
          "output_type": "stream",
          "name": "stderr",
          "text": [
            "/usr/local/lib/python3.12/dist-packages/huggingface_hub/utils/_auth.py:94: UserWarning: \n",
            "The secret `HF_TOKEN` does not exist in your Colab secrets.\n",
            "To authenticate with the Hugging Face Hub, create a token in your settings tab (https://huggingface.co/settings/tokens), set it as secret in your Google Colab and restart your session.\n",
            "You will be able to reuse this secret in all of your notebooks.\n",
            "Please note that authentication is recommended but still optional to access public models or datasets.\n",
            "  warnings.warn(\n",
            "You are using the default legacy behaviour of the <class 'transformers.models.t5.tokenization_t5.T5Tokenizer'>. This is expected, and simply means that the `legacy` (previous) behavior will be used so nothing changes for you. If you want to use the new behaviour, set `legacy=False`. This should only be set if you understand what it means, and thoroughly read the reason why this was added as explained in https://github.com/huggingface/transformers/pull/24565\n"
          ]
        }
      ],
      "source": [
        "from transformers import AutoTokenizer, AutoModelForCausalLM\n",
        "\n",
        "tokenizer = AutoTokenizer.from_pretrained(\"Sakalti/gpt-neox-small\")\n",
        "model = AutoModelForCausalLM.from_pretrained(\"Sakalti/gpt-neox-small\")"
      ]
    },
    {
      "cell_type": "code",
      "source": [
        "import json\n",
        "\n",
        "filename = 'data.json'\n",
        "\n",
        "with open(filename, 'r', encoding='utf-8') as f:\n",
        "    dataset = json.load(f)"
      ],
      "metadata": {
        "id": "Z70RLfsGclxr"
      },
      "execution_count": 25,
      "outputs": []
    },
    {
      "cell_type": "code",
      "source": [
        "from tqdm.auto import tqdm\n",
        "from sentence_transformers import SentenceTransformer\n",
        "import numpy as np\n",
        "\n",
        "embedding_model = SentenceTransformer('all-MiniLM-L6-v2')\n",
        "\n",
        "if tokenizer.pad_token is None:\n",
        "    tokenizer.add_special_tokens({\"pad_token\": \"[PAD]\"})\n",
        "    model.resize_token_embeddings(len(tokenizer))\n",
        "\n",
        "model.config.pad_token_id = tokenizer.pad_token_id\n",
        "\n",
        "texts = [d['text'] for d in dataset]\n",
        "\n",
        "batch_size = 128\n",
        "\n",
        "batches = [texts[i:i+batch_size] for i in range(0, len(texts), batch_size)]\n",
        "\n",
        "document_embeddings = []\n",
        "for batch in tqdm(batches):\n",
        "    batch_embeddings = embedding_model.encode(batch)\n",
        "    document_embeddings.extend(batch_embeddings)\n",
        "\n",
        "document_embeddings = np.array(document_embeddings)"
      ],
      "metadata": {
        "colab": {
          "base_uri": "https://localhost:8080/",
          "height": 49,
          "referenced_widgets": [
            "9a5d83386b4e44989136ae1d50e5ba37",
            "f9e9c223452e43daaa686a00892fb642",
            "eb7bfabe4a6346469573588fd47ef93f",
            "ec04bd7c9c8f42e3888975994606de7a",
            "2341f080f95645d7b7eb91e8257da509",
            "bfb37ed05dd7499295cc81951e55e34b",
            "2eadbbdacfa441429095ae8f4cc2dd8b",
            "73b628760a2a432ba32af3fe93fe5b39",
            "5e4fa929839c4310ac307198c4f50825",
            "797bc9fa47454ddf9acdecbc8c6a8cdc",
            "5c959f06c47e4116b4c502ce8b10dcbe"
          ]
        },
        "id": "yrx6uUP_Ydga",
        "outputId": "18461f8a-6d57-4a5f-8ab4-221b7361ec27"
      },
      "execution_count": 26,
      "outputs": [
        {
          "output_type": "display_data",
          "data": {
            "text/plain": [
              "  0%|          | 0/1 [00:00<?, ?it/s]"
            ],
            "application/vnd.jupyter.widget-view+json": {
              "version_major": 2,
              "version_minor": 0,
              "model_id": "9a5d83386b4e44989136ae1d50e5ba37"
            }
          },
          "metadata": {}
        }
      ]
    },
    {
      "cell_type": "code",
      "source": [
        "!pip install faiss-cpu"
      ],
      "metadata": {
        "colab": {
          "base_uri": "https://localhost:8080/"
        },
        "id": "1NdBR7e5eZSe",
        "outputId": "bafa3409-116c-4fbb-c3fd-b28ee6865a12"
      },
      "execution_count": 6,
      "outputs": [
        {
          "output_type": "stream",
          "name": "stdout",
          "text": [
            "Requirement already satisfied: faiss-cpu in /usr/local/lib/python3.12/dist-packages (1.12.0)\n",
            "Requirement already satisfied: numpy<3.0,>=1.25.0 in /usr/local/lib/python3.12/dist-packages (from faiss-cpu) (2.0.2)\n",
            "Requirement already satisfied: packaging in /usr/local/lib/python3.12/dist-packages (from faiss-cpu) (25.0)\n"
          ]
        }
      ]
    },
    {
      "cell_type": "code",
      "source": [
        "import faiss\n",
        "\n",
        "faiss.normalize_L2(document_embeddings)\n",
        "\n",
        "dim = document_embeddings.shape[1]\n",
        "index = faiss.IndexFlatIP(dim)\n",
        "index.add(document_embeddings)"
      ],
      "metadata": {
        "id": "ynRXtPEgY9k4"
      },
      "execution_count": 27,
      "outputs": []
    },
    {
      "cell_type": "code",
      "source": [
        "def retrieve_relevant_docs(query, k=5):\n",
        "    query_embedding = embedding_model.encode([query])\n",
        "    print('query_embedding')\n",
        "    faiss.normalize_L2(query_embedding)\n",
        "    print('faiss.normalize_L2')\n",
        "    distances, indices = index.search(query_embedding, k)\n",
        "    print('Дистанции и индексы нашел')\n",
        "\n",
        "    relevant_docs = []\n",
        "    for idx in indices[0]:\n",
        "        doc = dataset[idx.item()]\n",
        "        relevant_docs.append(doc)\n",
        "\n",
        "    return relevant_docs"
      ],
      "metadata": {
        "id": "oiQIjWPQd3nn"
      },
      "execution_count": 42,
      "outputs": []
    },
    {
      "cell_type": "code",
      "source": [
        "def select_best_sentences(relevant_docs, query):\n",
        "    best_sentences = []\n",
        "    for doc in relevant_docs:\n",
        "        sentences = sent_tokenize(doc['text'])\n",
        "        print('Документ разделил')\n",
        "        scores = [\n",
        "            util.cos_sim(embedding_model.encode(query), embedding_model.encode(sent)).item()\n",
        "            for sent in sentences\n",
        "        ]\n",
        "        print('Счет посчитал')\n",
        "        best_sentence_idx = np.argmax(scores)\n",
        "        best_sentences.append(sentences[best_sentence_idx])\n",
        "\n",
        "    return best_sentences"
      ],
      "metadata": {
        "id": "B4Qfyt1_upjr"
      },
      "execution_count": 29,
      "outputs": []
    },
    {
      "cell_type": "code",
      "source": [
        "def select_best_sentences_fast(relevant_docs, query):\n",
        "    best_sentences = []\n",
        "    print(f'Кол-во документов для анализа: {len(relevant_docs)}')\n",
        "    for doc in relevant_docs:\n",
        "        sentences = sent_tokenize(doc['text'])\n",
        "        print('Документ разделил')\n",
        "        encoded_query = embedding_model.encode([query])[0]\n",
        "        encoded_sentences = embedding_model.encode(sentences)\n",
        "        print('Эмбеддинги закодировал')\n",
        "        similarities = util.cos_sim(encoded_query, encoded_sentences)\n",
        "        print('Похожесть посчитал')\n",
        "        best_sentence_idx = np.argmax(similarities)\n",
        "        print('Лучшее предложение отыскал')\n",
        "        best_sentences.append(sentences[best_sentence_idx])\n",
        "\n",
        "    return best_sentences"
      ],
      "metadata": {
        "id": "RHjJA_BByz1w"
      },
      "execution_count": 35,
      "outputs": []
    },
    {
      "cell_type": "code",
      "source": [
        "def rag_generate(query):\n",
        "    relevant_docs = retrieve_relevant_docs(query)\n",
        "    print('Документы подобрал')\n",
        "\n",
        "    best_sentences = select_best_sentences_fast(relevant_docs, query)\n",
        "    print('Предложения выбрал')\n",
        "\n",
        "    context = '\\n'.join(best_sentences)\n",
        "\n",
        "    input_text = f\"question: {query}\\ncontext: {context}\"\n",
        "\n",
        "    inputs = tokenizer(input_text, return_tensors=\"pt\")\n",
        "    outputs = model.generate(inputs.input_ids, max_new_tokens=50)\n",
        "    answer = tokenizer.decode(outputs[0], skip_special_tokens=True)\n",
        "\n",
        "    return answer.strip()"
      ],
      "metadata": {
        "id": "_z4LO1jMd6F_"
      },
      "execution_count": 38,
      "outputs": []
    },
    {
      "cell_type": "code",
      "source": [
        "query = \"Чем лечить фузариоз\"\n",
        "\n",
        "final_answer = rag_generate(query)\n",
        "\n",
        "print(final_answer)"
      ],
      "metadata": {
        "colab": {
          "base_uri": "https://localhost:8080/"
        },
        "id": "YSwflA2Ze5TU",
        "outputId": "9c00348b-b09b-42ed-c3b1-a09b9c8ea7c5"
      },
      "execution_count": 43,
      "outputs": [
        {
          "output_type": "stream",
          "name": "stdout",
          "text": [
            "query_embedding\n",
            "faiss.normalize_L2\n",
            "Дистанции и индексы нашел\n",
            "Документы подобрал\n",
            "Кол-во документов для анализа: 10\n",
            "Документ разделил\n",
            "Эмбеддинги закодирова\n",
            "Похожесть посчитал\n",
            "Лучшее предложение отыскал\n",
            "Документ разделил\n",
            "Эмбеддинги закодирова\n",
            "Похожесть посчитал\n",
            "Лучшее предложение отыскал\n",
            "Документ разделил\n",
            "Эмбеддинги закодирова\n",
            "Похожесть посчитал\n",
            "Лучшее предложение отыскал\n",
            "Документ разделил\n",
            "Эмбеддинги закодирова\n",
            "Похожесть посчитал\n",
            "Лучшее предложение отыскал\n",
            "Документ разделил\n",
            "Эмбеддинги закодирова\n",
            "Похожесть посчитал\n",
            "Лучшее предложение отыскал\n",
            "Документ разделил\n",
            "Эмбеддинги закодирова\n",
            "Похожесть посчитал\n",
            "Лучшее предложение отыскал\n",
            "Документ разделил\n",
            "Эмбеддинги закодирова\n",
            "Похожесть посчитал\n",
            "Лучшее предложение отыскал\n",
            "Документ разделил\n",
            "Эмбеддинги закодирова\n",
            "Похожесть посчитал\n",
            "Лучшее предложение отыскал\n",
            "Документ разделил\n",
            "Эмбеддинги закодирова\n",
            "Похожесть посчитал\n",
            "Лучшее предложение отыскал\n",
            "Документ разделил\n"
          ]
        },
        {
          "output_type": "stream",
          "name": "stderr",
          "text": [
            "The attention mask and the pad token id were not set. As a consequence, you may observe unexpected behavior. Please pass your input's `attention_mask` to obtain reliable results.\n",
            "Setting `pad_token_id` to `eos_token_id`:3 for open-end generation.\n"
          ]
        },
        {
          "output_type": "stream",
          "name": "stdout",
          "text": [
            "Эмбеддинги закодирова\n",
            "Похожесть посчитал\n",
            "Лучшее предложение отыскал\n",
            "Предложения выбрал\n",
            "question: [UNK]ем лечить фузариоз context: Лечат растения на ранних стадиях болезни фунгицидами. Прекратите подкармливать алоказию в фазе покоя. Нанесите его из пульверизатора на листья, а затем аккуратно протрите листья до блеска. [UNK]е легко получить и также легко с пользой применять. Легко размножается черенками. [UNK]е легко получить и также легко с пользой применять. [UNK]е легко получить и также легко с пользой применять. [UNK]е легко получить и также легко с пользой применять. [UNK]е легко получить и также легко с пользой применять. [UNK]е легко получить и также легко с пользой применять. [UNK] [UNK]([UNK]、[UNK]、[UNK]、[UNK]、[UNK]、[UNK]、[UNK]、[UNK]、[UNK]、[UNK]、[UNK]、[UNK]、[UNK]、[UNK]、[UNK]、[UNK]、[UNK]、[UNK]、[UNK]、[UNK]、[UNK]、[UNK]、[UNK]、[UNK]、[UNK]、[UNK]、[UNK]、[UNK]、[UNK]、[UNK]、[UNK]、[UNK]、[UNK]、[UNK]、[UNK]、[UNK]、[UNK]、[UNK]、[UNK]、[UNK]、[UNK]、[UNK]、[UNK]、[UNK]、[UNK]、[UNK]、[UNK]、[UNK]、[UNK]、[UNK]、[UNK]、[UNK]、[UNK]、[UNK]、[UNK]、[UNK]、[UNK]、[UNK]、[UNK]、[UNK]、[UNK]、[UNK]、[UNK]、[UNK]、[UNK]、[UNK]、[UNK]、[UNK]、[UNK]、[UNK]、[UNK]、[UNK]、[UNK]、[UNK]、[UNK]、[UNK]、[UNK]、[UNK]、[UNK]、[UNK]、[UNK]、[UNK]、[UNK]、[UNK]、[UNK]、[UNK]、[UNK]、[UNK]、[UNK]、[UNK]、[UNK]、[UNK]、[UNK]、[UNK]、[UNK]、[UNK]、[UNK]、[UNK]\n"
          ]
        }
      ]
    }
  ]
}